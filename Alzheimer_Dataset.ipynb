{
 "cells": [
  {
   "cell_type": "markdown",
   "id": "ec06a822",
   "metadata": {},
   "source": [
    "# Create Custom PyTorch Dataset and Upload to PyTorch DataLoaders"
   ]
  },
  {
   "cell_type": "code",
   "execution_count": 1,
   "id": "ac16acff",
   "metadata": {},
   "outputs": [],
   "source": [
    "# Import necessary libraries\n",
    "import os\n",
    "import glob\n",
    "import numpy as np\n",
    "import pandas as pd\n",
    "import seaborn as sns\n",
    "import matplotlib.pyplot as plt\n",
    "from sklearn.metrics import confusion_matrix\n",
    "from sklearn.metrics import classification_report\n",
    "from PIL import Image\n",
    "\n",
    "import torch\n",
    "import torch.nn as nn\n",
    "import torch.optim as optim\n",
    "import torch.nn.functional as F\n",
    "from  torch.utils.data import Dataset, DataLoader\n",
    "\n",
    "import torchvision\n",
    "import torchvision.models as models\n",
    "import torchvision.transforms as transforms\n",
    "import torchvision.datasets as datasets\n",
    "\n",
    "import warnings\n",
    "warnings.simplefilter('ignore')"
   ]
  },
  {
   "cell_type": "code",
   "execution_count": 2,
   "id": "b7164e3e",
   "metadata": {},
   "outputs": [],
   "source": [
    "# Function to create custom PyTorch dataset from given files.\n",
    "def alzheimer_dataset():\n",
    "\n",
    "    # Mean and Standart Deviation values taken from previous works over dataset.\n",
    "    mean = [0.485, 0.456, 0.406]\n",
    "    std = [0.229, 0.224, 0.225]\n",
    "\n",
    "    # Create transformer for train and validation.\n",
    "    train_transformer = transforms.Compose([\n",
    "        transforms.Resize((224, 224)),\n",
    "        transforms.RandomHorizontalFlip(),\n",
    "        transforms.RandomRotation(10),\n",
    "        transforms.ToTensor(),\n",
    "        transforms.Normalize(torch.Tensor(mean), torch.Tensor(std))\n",
    "    ])\n",
    "\n",
    "    # Create transformer for test.\n",
    "    test_transformer = transforms.Compose([\n",
    "        transforms.Resize((224, 224)),\n",
    "        transforms.ToTensor(),\n",
    "        transforms.Normalize(torch.Tensor(mean), torch.Tensor(std))\n",
    "    ])\n",
    "    \n",
    "    # Create Datasets\n",
    "    train_dataset = datasets.ImageFolder(root = 'alzheimer_dataset/train', transform = train_transformer)\n",
    "    validation_dataset = datasets.ImageFolder(root = 'alzheimer_dataset/validation', transform = train_transformer)\n",
    "    test_dataset = datasets.ImageFolder(root = 'alzheimer_dataset/test', transform = test_transformer)\n",
    "    \n",
    "    return train_dataset, validation_dataset, test_dataset"
   ]
  },
  {
   "cell_type": "code",
   "execution_count": null,
   "id": "cc12f35c",
   "metadata": {},
   "outputs": [],
   "source": [
    "# Function to visualize samples from created PyTorch dataset.\n",
    "def visualize_dataset(dataset):\n",
    "    \n",
    "    # Visualize samples.\n",
    "    labels_map = {\n",
    "        0: \"MildDemented\",\n",
    "        1: \"ModerateDemented\",\n",
    "        2: \"NonDemented\",\n",
    "        3: \"VeryMildDemented\",\n",
    "    }\n",
    "\n",
    "    figure = plt.figure(figsize=(15, 15))\n",
    "    cols, rows = 5, 5\n",
    "    for i in range(1, cols * rows + 1):\n",
    "        sample_idx = torch.randint(len(dataset), size=(1,)).item()\n",
    "        img, label = dataset[sample_idx]\n",
    "        # Check the number of channels in the image\n",
    "        if img.shape[0] == 3:\n",
    "            # Convert from RGB to grayscale\n",
    "            img = img.mean(dim=0)\n",
    "        figure.add_subplot(rows, cols, i)\n",
    "        plt.title(labels_map[label])\n",
    "        plt.axis(\"off\")\n",
    "        plt.imshow(img.squeeze(), cmap=\"gray\")\n",
    "    plt.show()"
   ]
  },
  {
   "cell_type": "code",
   "execution_count": null,
   "id": "caf07ee1",
   "metadata": {},
   "outputs": [],
   "source": [
    "# Function to upload PyTorch datasets into PyTorch dataloaders.\n",
    "def alzheimer_dataloader():\n",
    "    \n",
    "    # Crete Data Loaders\n",
    "    train_loader = DataLoader(train_dataset, batch_size=64, shuffle=True, num_workers=2)\n",
    "    validation_loader = DataLoader(validation_dataset, batch_size=64, shuffle=True, num_workers=2)\n",
    "    test_loader = DataLoader(test_dataset, batch_size=64, shuffle=False, num_workers=2)\n",
    "    \n",
    "    return train_loader, validation_loader, test_loader"
   ]
  },
  {
   "cell_type": "code",
   "execution_count": 5,
   "id": "73b47852",
   "metadata": {},
   "outputs": [],
   "source": [
    "# Function to visualize batches from the PyTorch dataloaders.\n",
    "def visualize_batch(dataloader):\n",
    "    batch = next(iter(dataloader))\n",
    "    images, labels = batch\n",
    "\n",
    "    grid = torchvision.utils.make_grid(images, nrow = 16, normalize=True)\n",
    "    plt.figure(figsize = (36, 36))\n",
    "    plt.imshow(np.transpose(grid, (1, 2, 0)))"
   ]
  }
 ],
 "metadata": {
  "kernelspec": {
   "display_name": "Python 3 (ipykernel)",
   "language": "python",
   "name": "python3"
  },
  "language_info": {
   "codemirror_mode": {
    "name": "ipython",
    "version": 3
   },
   "file_extension": ".py",
   "mimetype": "text/x-python",
   "name": "python",
   "nbconvert_exporter": "python",
   "pygments_lexer": "ipython3",
   "version": "3.9.6"
  }
 },
 "nbformat": 4,
 "nbformat_minor": 5
}
